{
 "cells": [
  {
   "cell_type": "code",
   "execution_count": 12,
   "id": "898a6069",
   "metadata": {},
   "outputs": [],
   "source": [
    "# written on 3.27.24 by @caramnix \n",
    "\n",
    "# resources: \n",
    "# https://platform.openai.com/docs/api-reference/chat/create\n",
    "# https://platform.openai.com/docs/guides/text-generation/chat-completions-api\n",
    "# https://github.com/openai/openai-python\n"
   ]
  },
  {
   "cell_type": "code",
   "execution_count": 49,
   "id": "1d3917d9",
   "metadata": {},
   "outputs": [],
   "source": [
    "import pandas as pd\n",
    "import openai\n",
    "import time\n",
    "import requests\n",
    "import os\n",
    "from openai import OpenAI"
   ]
  },
  {
   "cell_type": "code",
   "execution_count": 50,
   "id": "d5bcc982",
   "metadata": {},
   "outputs": [],
   "source": [
    "# read in full dataset  \n",
    "df= pd.read_csv(\"/Users/caranix/Library/CloudStorage/OneDrive-TheOhioStateUniversity/CS MS/CSPAN/115th_transcript_data/cleaned_transcript_data_115th copy.csv\")\n",
    "\n",
    "# get rid of duplicates \n",
    "df2= df.drop_duplicates(subset=['cleaned_text'])"
   ]
  },
  {
   "cell_type": "code",
   "execution_count": 51,
   "id": "cb7a55d3",
   "metadata": {},
   "outputs": [
    {
     "name": "stderr",
     "output_type": "stream",
     "text": [
      "/var/folders/09/l3m63nj90fg1l2jshjp_hd5w0000gn/T/ipykernel_33155/245730034.py:7: SettingWithCopyWarning: \n",
      "A value is trying to be set on a copy of a slice from a DataFrame.\n",
      "Try using .loc[row_indexer,col_indexer] = value instead\n",
      "\n",
      "See the caveats in the documentation: https://pandas.pydata.org/pandas-docs/stable/user_guide/indexing.html#returning-a-view-versus-a-copy\n",
      "  df2[\"party\"] = df2[\"party_state\"].str.split(\"-\").apply(get_party)\n"
     ]
    }
   ],
   "source": [
    "def get_party(data):\n",
    "    if isinstance(data, (float)): \n",
    "        return \"NULL\"\n",
    "    else:\n",
    "        return(data[0])\n",
    "\n",
    "df2[\"party\"] = df2[\"party_state\"].str.split(\"-\").apply(get_party)"
   ]
  },
  {
   "cell_type": "code",
   "execution_count": 52,
   "id": "311be89e",
   "metadata": {},
   "outputs": [],
   "source": [
    "df2 = df2[df2.party != \"NULL\"]"
   ]
  },
  {
   "cell_type": "code",
   "execution_count": 53,
   "id": "e510bead",
   "metadata": {},
   "outputs": [
    {
     "data": {
      "text/plain": [
       "2632"
      ]
     },
     "execution_count": 53,
     "metadata": {},
     "output_type": "execute_result"
    }
   ],
   "source": [
    "len(df2)"
   ]
  },
  {
   "cell_type": "code",
   "execution_count": 47,
   "id": "5e813ac7",
   "metadata": {},
   "outputs": [
    {
     "data": {
      "text/plain": [
       "1269"
      ]
     },
     "execution_count": 47,
     "metadata": {},
     "output_type": "execute_result"
    }
   ],
   "source": [
    "sum(df2.party ==\"D\")"
   ]
  },
  {
   "cell_type": "code",
   "execution_count": 48,
   "id": "543ea29a",
   "metadata": {},
   "outputs": [
    {
     "data": {
      "text/plain": [
       "1363"
      ]
     },
     "execution_count": 48,
     "metadata": {},
     "output_type": "execute_result"
    }
   ],
   "source": [
    "sum(df2.party ==\"R\")"
   ]
  },
  {
   "cell_type": "code",
   "execution_count": null,
   "id": "a60d4c30",
   "metadata": {},
   "outputs": [],
   "source": []
  },
  {
   "cell_type": "code",
   "execution_count": 54,
   "id": "14be324e",
   "metadata": {},
   "outputs": [],
   "source": [
    "# Initialize the OpenAI API with your API key\n",
    "\n",
    "client = OpenAI(\n",
    "    api_key= \"YOUR API KEY HERE\",\n",
    ")\n"
   ]
  },
  {
   "cell_type": "code",
   "execution_count": 55,
   "id": "14b30251",
   "metadata": {},
   "outputs": [],
   "source": [
    "def label_text_using_gpt(text, defn, name):\n",
    "    chat_completion = client.chat.completions.create(\n",
    "        messages=[\n",
    "        {\n",
    "            \"role\": \"system\", \"content\": \"You are a helpful assistant for labelling text data.\"\n",
    "        }, {\n",
    "            \"role\": \"user\", \"content\": f\"The following is part of a congressional speech. Given this definition of '{name}': '{defn}' and this text: '{text}', provide a score for the '{name}' of the text between -1 and 1. Please give me ONLY a number between -1 and 1 as your response.\"\n",
    "         }\n",
    "        \n",
    "        ],\n",
    "        model=\"gpt-3.5-turbo\",\n",
    "        )\n",
    "    return chat_completion.choices[0].message.content\n"
   ]
  },
  {
   "cell_type": "code",
   "execution_count": 59,
   "id": "ffb4eca9",
   "metadata": {},
   "outputs": [],
   "source": [
    "def safe_label_text_using_gpt_v2(texti, defn, name):\n",
    "    while True: \n",
    "        try:\n",
    "            return label_text_using_gpt(texti, defn, name)\n",
    "\n",
    "        except openai.error.ServiceUnavailableError:  # Adjusted to be more specific\n",
    "            print(\"\\rServer is overloaded or not ready. Waiting for 5 minutes before retrying...         \", end=\"\", flush=True)\n",
    "            time.sleep(300)  # wait for 10 minutes before retrying\n",
    "\n",
    "        except (openai.error.Timeout, requests.Timeout):  # Both timeout exceptions are now caught\n",
    "            print(\"\\rRequest timed out. Waiting for 5 minutes before retrying...        \", end=\"\", flush=True)\n",
    "            time.sleep(300)  # wait for 5 minutes before retrying\n",
    "\n",
    "        except Exception as e:\n",
    "            print(f\"\\rAn unexpected error occurred: {e}      \", end=\"\", flush=True)\n",
    "            return None"
   ]
  },
  {
   "cell_type": "code",
   "execution_count": 61,
   "id": "f2c5542b",
   "metadata": {},
   "outputs": [
    {
     "name": "stdout",
     "output_type": "stream",
     "text": [
      "0\n",
      "300\n",
      "600\n",
      "900\n",
      "1200\n",
      "1500\n",
      "1800\n",
      "2100\n",
      "2400\n"
     ]
    }
   ],
   "source": [
    "valence= \"the degree of pleasure/positivity i.e. valence is the positive--negative or pleasure--displeasure dimension, where high valence (1) indicates the content of text is all positive or pleasurable and low valence (-1) indicates the content of the text is not positive or pleasurable\" \n",
    "text_response_v= {} \n",
    "for i in range(0,len(df2)): \n",
    "    texti= df2.iloc[i].cleaned_text\n",
    "    text_response_v[i] = safe_label_text_using_gpt_v2(texti, valence, \"valence\")\n",
    "    if i%300 == 0: \n",
    "        print(i)\n",
    "    "
   ]
  },
  {
   "cell_type": "code",
   "execution_count": 62,
   "id": "6f90e558",
   "metadata": {},
   "outputs": [],
   "source": [
    "valence_df= pd.DataFrame(text_response_v, index=[0]).T \n",
    "valence_df.to_csv(\"valence_df_115.csv\", index=False)\n",
    "df2[\"valence\"] = list(valence_df[0])"
   ]
  },
  {
   "cell_type": "code",
   "execution_count": 63,
   "id": "1c0ab038",
   "metadata": {},
   "outputs": [
    {
     "name": "stdout",
     "output_type": "stream",
     "text": [
      "0\n",
      "300\n",
      "600\n",
      "900\n",
      "1200\n",
      "1500\n",
      "1800\n",
      "2100\n",
      "2400\n"
     ]
    }
   ],
   "source": [
    "arousal= \"the degree of energy/excitedness i.e. arousal is the excited--calm or active--passive dimension, where high arousal (1) indicates the content of text is energetic and low arousal (-1) indicates the content of the text is not energetic and instead calm\"\n",
    "text_response_a= {} \n",
    "for i in range(0,len(df2)): \n",
    "    texti= df2.iloc[i].cleaned_text\n",
    "    text_response_a[str(i)] = safe_label_text_using_gpt_v2(texti, arousal, \"arousal\")\n",
    "    #time.sleep(.2) \n",
    "    if i%300 == 0: \n",
    "        print(i)"
   ]
  },
  {
   "cell_type": "code",
   "execution_count": 64,
   "id": "70dd8343",
   "metadata": {},
   "outputs": [],
   "source": [
    "arousal_df= pd.DataFrame(text_response_a, index=[0]).T \n",
    "arousal_df.to_csv(\"arousal_df_115.csv\", index=False)\n",
    "df2[\"arousal\"] = list(arousal_df[0])"
   ]
  },
  {
   "cell_type": "code",
   "execution_count": 65,
   "id": "f1d337be",
   "metadata": {},
   "outputs": [
    {
     "name": "stdout",
     "output_type": "stream",
     "text": [
      "0\n",
      "300\n",
      "600\n",
      "900\n",
      "1200\n",
      "1500\n",
      "1800\n",
      "2100\n",
      "2400\n"
     ]
    }
   ],
   "source": [
    "confidence= \"the degree of confidence/assuredness i.e. confidence is the have full control--have no control dimension, where high confidence (1) indicates the content of text displays control and confidence and low confidence (-1) indicates the content of the text lacks control and confidence\" \n",
    "text_response_c= {}\n",
    "for i in range(0,len(df2)): \n",
    "    texti= df2.iloc[i].cleaned_text\n",
    "    text_response_c[str(i)]= safe_label_text_using_gpt_v2(texti, confidence, \"confidence\")\n",
    "    #time.sleep(.2) \n",
    "    if i%300 == 0: \n",
    "        print(i)\n",
    "\n"
   ]
  },
  {
   "cell_type": "code",
   "execution_count": 66,
   "id": "61de9bcc",
   "metadata": {},
   "outputs": [],
   "source": [
    "confidence_df= pd.DataFrame(text_response_c, index=[0]).T \n",
    "confidence_df.to_csv(\"confidence_df_115.csv\", index=False)\n",
    "df2[\"confidence\"] = list(confidence_df[0])"
   ]
  },
  {
   "cell_type": "code",
   "execution_count": 67,
   "id": "dd3db699",
   "metadata": {},
   "outputs": [
    {
     "name": "stdout",
     "output_type": "stream",
     "text": [
      "0\n",
      "300\n",
      "600\n",
      "900\n",
      "1200\n",
      "1500\n",
      "1800\n",
      "2100\n",
      "2400\n"
     ]
    }
   ],
   "source": [
    "empathy= \"the action of understanding, being aware of, being sensitive to, and vicariously experiencing the feelings, thoughts, and experience of another. i.e. Empathy involves stepping into that person's shoes to actively share in their emotional experience. Where high empathy (1) indicates the content of the text displays empathy and low empathy (-1) indicates the content of the text lacks empathy\" \n",
    "\n",
    "text_response_e= {}\n",
    "for i in range(0,len(df2)): \n",
    "    texti= df2.iloc[i].cleaned_text\n",
    "    text_response_e[str(i)]= safe_label_text_using_gpt_v2(texti, empathy, \"empathy\")\n",
    "    #time.sleep(.2) \n",
    "    if i%300 == 0: \n",
    "        print(i) "
   ]
  },
  {
   "cell_type": "code",
   "execution_count": 68,
   "id": "131aa1ff",
   "metadata": {},
   "outputs": [],
   "source": [
    "empathy_df= pd.DataFrame(text_response_e, index=[0]).T \n",
    "empathy_df.to_csv(\"empathy_df_115.csv\", index=False)\n",
    "df2[\"empathy\"] = list(empathy_df[0])"
   ]
  },
  {
   "cell_type": "code",
   "execution_count": 69,
   "id": "1f98550d",
   "metadata": {},
   "outputs": [
    {
     "name": "stdout",
     "output_type": "stream",
     "text": [
      "0\n",
      "300\n",
      "600\n",
      "900\n",
      "1200\n",
      "1500\n",
      "1800\n",
      "2100\n",
      "2400\n"
     ]
    }
   ],
   "source": [
    "sympathy= \"an affinity, association, or relationship between persons or things wherein whatever affects one similarly affects the other, i.e. sympathy is a feeling of sincere concern for someone who is experiencing something difficult or painful. Where high sympathy (1) indicates the content of the text displays sympathy and low sympathy (-1) indicates the content of the text lacks sympathy\" \n",
    "\n",
    "text_response_s= {}\n",
    "for i in range(0,len(df2)): \n",
    "    texti= df2.iloc[i].cleaned_text\n",
    "    text_response_s[str(i)]= safe_label_text_using_gpt_v2(texti, sympathy, \"sympathy\")\n",
    "    #time.sleep(.2) \n",
    "    if i%300 == 0: \n",
    "        print(i)"
   ]
  },
  {
   "cell_type": "code",
   "execution_count": 73,
   "id": "e4341aaf",
   "metadata": {},
   "outputs": [],
   "source": [
    "#sympathy_df= pd.DataFrame(text_response_s, index=[0]).T \n",
    "#sympathy_df.to_csv(\"sympathy_df.csv_115\", index=False)\n",
    "df2[\"sympathy\"] = list(sympathy_df[0])"
   ]
  },
  {
   "cell_type": "code",
   "execution_count": 74,
   "id": "8e07203b",
   "metadata": {},
   "outputs": [],
   "source": [
    "df2.to_csv(\"speeches_VACES_115.csv\", index=False)"
   ]
  },
  {
   "cell_type": "code",
   "execution_count": null,
   "id": "f4bfb386",
   "metadata": {},
   "outputs": [],
   "source": []
  }
 ],
 "metadata": {
  "kernelspec": {
   "display_name": "Python 3 (ipykernel)",
   "language": "python",
   "name": "python3"
  },
  "language_info": {
   "codemirror_mode": {
    "name": "ipython",
    "version": 3
   },
   "file_extension": ".py",
   "mimetype": "text/x-python",
   "name": "python",
   "nbconvert_exporter": "python",
   "pygments_lexer": "ipython3",
   "version": "3.11.5"
  }
 },
 "nbformat": 4,
 "nbformat_minor": 5
}
